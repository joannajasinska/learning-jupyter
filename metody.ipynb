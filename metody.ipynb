{
 "cells": [
  {
   "cell_type": "code",
   "execution_count": 1,
   "metadata": {},
   "outputs": [
    {
     "name": "stdout",
     "output_type": "stream",
     "text": [
      "1.2\n"
     ]
    }
   ],
   "source": [
    "x=1\r\n",
    "y=1.2\r\n",
    "print(y)"
   ]
  },
  {
   "cell_type": "code",
   "execution_count": 2,
   "metadata": {},
   "outputs": [],
   "source": [
    "def liczbaPrzeciwna (liczba):\r\n",
    "    return -liczba"
   ]
  },
  {
   "cell_type": "code",
   "execution_count": 5,
   "metadata": {},
   "outputs": [
    {
     "name": "stdout",
     "output_type": "stream",
     "text": [
      "Liczba przeciwna do 1.200000 to -1.200000\n"
     ]
    }
   ],
   "source": [
    "z=liczbaPrzeciwna(y)\r\n",
    "print(\"Liczba przeciwna do %f to %f\" % (y, z))"
   ]
  },
  {
   "cell_type": "code",
   "execution_count": 9,
   "metadata": {},
   "outputs": [
    {
     "name": "stdout",
     "output_type": "stream",
     "text": [
      "0\n",
      "1\n",
      "11\n"
     ]
    }
   ],
   "source": [
    "class Doktorant:\r\n",
    "\r\n",
    "    liczbaGodzin=0\r\n",
    "\r\n",
    "    def dodajPrzepracowaneGodziny (self,liczbaPrzepracowanychGodzin):\r\n",
    "        self.liczbaGodzin = self.liczbaGodzin + liczbaPrzepracowanychGodzin\r\n",
    "\r\n",
    "    def isSleepy (self):\r\n",
    "        if self.liczbaGodzin>8:\r\n",
    "            return 1\r\n",
    "        else:\r\n",
    "            return 0\r\n",
    "\r\n",
    "      \r\n",
    "\r\n",
    "joanna = Doktorant()\r\n",
    "ola = Doktorant()\r\n",
    "\r\n",
    "\r\n",
    "joanna.dodajPrzepracowaneGodziny(3)\r\n",
    "print(joanna.isSleepy())\r\n",
    "joanna.dodajPrzepracowaneGodziny(8)\r\n",
    "print(joanna.isSleepy())\r\n",
    "print(joanna.liczbaGodzin)"
   ]
  },
  {
   "cell_type": "code",
   "execution_count": null,
   "metadata": {},
   "outputs": [],
   "source": []
  }
 ],
 "metadata": {
  "kernelspec": {
   "display_name": "Python 3.9.2 64-bit",
   "name": "python392jvsc74a57bd00f283766019978d02ecf85a45f4536f1f3950884b2b9e1931703b1d0126e87a4"
  },
  "language_info": {
   "codemirror_mode": {
    "name": "ipython",
    "version": 3
   },
   "file_extension": ".py",
   "mimetype": "text/x-python",
   "name": "python",
   "nbconvert_exporter": "python",
   "pygments_lexer": "ipython3",
   "version": "3.9.2"
  },
  "metadata": {
   "interpreter": {
    "hash": "0f283766019978d02ecf85a45f4536f1f3950884b2b9e1931703b1d0126e87a4"
   }
  },
  "orig_nbformat": 2
 },
 "nbformat": 4,
 "nbformat_minor": 2
}